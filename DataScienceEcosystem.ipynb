{
 "cells": [
  {
   "cell_type": "markdown",
   "id": "0e6e6eaf-fae4-4fdf-89f2-4d0a9d850519",
   "metadata": {},
   "source": [
    "# h1: Data Science Tools and Ecosystem"
   ]
  },
  {
   "cell_type": "markdown",
   "id": "a8e46482-9779-49d3-955a-9bf369645429",
   "metadata": {},
   "source": [
    "In this notebook, data science tools and ecosystem are summarized"
   ]
  },
  {
   "cell_type": "markdown",
   "id": "01a89b31-a585-4874-89bf-57973744519b",
   "metadata": {},
   "source": [
    "Some of the popular languages that data scientist use are:"
   ]
  },
  {
   "cell_type": "markdown",
   "id": "5cecd707-c966-44bb-a109-7df497df9df9",
   "metadata": {},
   "source": [
    "1. Python\n",
    "2. R\n",
    "3. SQL"
   ]
  },
  {
   "cell_type": "markdown",
   "id": "4952d18d-d3c1-44b1-8907-ae7735beac81",
   "metadata": {},
   "source": [
    "Some of the commonly used libraries used by Data Scientists include:"
   ]
  },
  {
   "cell_type": "markdown",
   "id": "d3bf6028-aa9b-48d5-9c7a-7c440182dabe",
   "metadata": {},
   "source": [
    "1. Pandas\n",
    "2. Numpy\n",
    "3. Matplotlib"
   ]
  },
  {
   "cell_type": "markdown",
   "id": "ddcc9177-9168-41ba-883d-9c325b4534a7",
   "metadata": {},
   "source": [
    "|Data Science Tools|\n",
    "|------------------|\n",
    "|MySQL|\n",
    "|PowerBi|\n",
    "|Tableau|"
   ]
  },
  {
   "cell_type": "markdown",
   "id": "67052cee-a4f4-4226-91b1-9e5064cc1c6c",
   "metadata": {},
   "source": [
    "### h3: Below are a few examples of evaluating arithmetic expressions in Python"
   ]
  },
  {
   "cell_type": "code",
   "execution_count": 3,
   "id": "fa3fdddf-a79e-4cee-8e6c-5bb608780e80",
   "metadata": {
    "tags": []
   },
   "outputs": [
    {
     "data": {
      "text/plain": [
       "17"
      ]
     },
     "execution_count": 3,
     "metadata": {},
     "output_type": "execute_result"
    }
   ],
   "source": [
    "# This is a simple arithmetic expression to multiply then add integers\n",
    "(3*4)+5"
   ]
  },
  {
   "cell_type": "code",
   "execution_count": 5,
   "id": "d9c33443-8f01-46f8-af2f-8c70bb8618fc",
   "metadata": {
    "tags": []
   },
   "outputs": [
    {
     "name": "stdout",
     "output_type": "stream",
     "text": [
      "200 minutes is equal to 3.33 hours.\n"
     ]
    }
   ],
   "source": [
    "# Input: Minutes\n",
    "minutes_input = 200\n",
    "\n",
    "# Convert minutes to hours\n",
    "hours = minutes_input / 60\n",
    "\n",
    "# Round the result to two decimal places\n",
    "rounded_hours = round(hours, 2)\n",
    "\n",
    "# Output\n",
    "print(f\"{minutes_input} minutes is equal to {rounded_hours} hours.\")\n"
   ]
  },
  {
   "cell_type": "markdown",
   "id": "e854df33-d931-4751-9fd0-d06f4ded62a1",
   "metadata": {},
   "source": [
    "__Objectives:__\n",
    "- List popular languages that data scientists use\n",
    "- List some libraries commonly used by data scientists\n",
    "- List some examples of evaluating arithmetic expressions in Python"
   ]
  },
  {
   "cell_type": "markdown",
   "id": "fd13e7e0-31a1-46dd-a3f3-6e56d9d6386c",
   "metadata": {},
   "source": [
    "## h2: Author\n",
    "Atharva Londhe"
   ]
  },
  {
   "cell_type": "code",
   "execution_count": null,
   "id": "87909d10-d031-491f-b62d-e6d7c3eada45",
   "metadata": {},
   "outputs": [],
   "source": []
  }
 ],
 "metadata": {
  "kernelspec": {
   "display_name": "Python",
   "language": "python",
   "name": "conda-env-python-py"
  },
  "language_info": {
   "codemirror_mode": {
    "name": "ipython",
    "version": 3
   },
   "file_extension": ".py",
   "mimetype": "text/x-python",
   "name": "python",
   "nbconvert_exporter": "python",
   "pygments_lexer": "ipython3",
   "version": "3.7.12"
  }
 },
 "nbformat": 4,
 "nbformat_minor": 5
}
